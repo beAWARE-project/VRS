{
 "cells": [
  {
   "cell_type": "code",
   "execution_count": 1,
   "metadata": {},
   "outputs": [],
   "source": [
    "import json\n",
    "import requests\n",
    "import uuid\n",
    "import time"
   ]
  },
  {
   "cell_type": "code",
   "execution_count": 2,
   "metadata": {},
   "outputs": [],
   "source": [
    "with open('./topic_021_alert.json', mode='r') as file:\n",
    "    topic = json.load(file)\n",
    "inc_id = 'INC_SCAPP_'+uuid.uuid4().hex\n",
    "msg_id = uuid.uuid4().hex\n",
    "inc_time = time.strftime('%Y-%m-%dT%H:%M:%SZ')\n",
    "topic['body']['incidentID'] = inc_id\n",
    "topic['body']['startTimeUTC'] = inc_time\n",
    "topic['body']['title'] = \"Report from {}\".format(inc_time)\n",
    "topic['header']['msgIdentifier'] = msg_id\n",
    "topic['header']['sentUTC'] = inc_time\n",
    "alert_for_post = {\"topics\": [\"TOP021_INCIDENT_REPORT\"], \"message\": json.dumps(topic)}"
   ]
  },
  {
   "cell_type": "code",
   "execution_count": 3,
   "metadata": {},
   "outputs": [],
   "source": [
    "with open('./topic_021_media.json', mode='r') as file:\n",
    "    topic = json.load(file)\n",
    "msg_id = uuid.uuid4().hex\n",
    "topic['body']['incidentID'] = inc_id\n",
    "topic['body']['startTimeUTC'] = inc_time\n",
    "topic['body']['title'] = \"Report from {}\".format(inc_time)\n",
    "topic['header']['msgIdentifier'] = msg_id\n",
    "topic['header']['sentUTC'] = inc_time\n",
    "media_for_post = {\"topics\": [\"TOP021_INCIDENT_REPORT\"], \"message\": json.dumps(topic)}"
   ]
  },
  {
   "cell_type": "code",
   "execution_count": 4,
   "metadata": {},
   "outputs": [
    {
     "data": {
      "text/plain": [
       "{'body': {'attachments': [{'attachmentName': 'whatever.jpg',\n",
       "    'attachmentTimeStampUTC': '2019-02-05T15:01:00Z',\n",
       "    'attachmentType': 'image',\n",
       "    'attachmentURL': 'https://beaware-1.eu-de.containers.appdomain.cloud/object-store/5074%2Fdbc3168d-e70e-4b24-9897-e34fc1ab1696.jpeg'}],\n",
       "  'incidentID': 'INC_SCAPP_c906039212ff4782b841af73bcaf9e68',\n",
       "  'incidentOriginator': 'SCAPP',\n",
       "  'incidentType': 'Flood',\n",
       "  'language': 'en-US',\n",
       "  'position': {'latitude': 45.550171, 'longitude': 11.550287},\n",
       "  'startTimeUTC': '2019-02-18T13:37:54Z',\n",
       "  'title': 'Report from 2019-02-18T13:37:54Z'},\n",
       " 'header': {'actionType': 'Update',\n",
       "  'code': 0,\n",
       "  'district': 'Vicenza',\n",
       "  'msgIdentifier': 'a9faac47a8d44fbd8fed5f5d2aa43a19',\n",
       "  'note': '',\n",
       "  'recipients': '',\n",
       "  'references': '',\n",
       "  'scope': 'Restricted',\n",
       "  'sender': 'SCAPP',\n",
       "  'sentUTC': '2019-02-18T13:37:54Z',\n",
       "  'specificSender': 'mobileAppTechnicalUser',\n",
       "  'status': 'Actual',\n",
       "  'topicMajorVersion': 1,\n",
       "  'topicMinorVersion': 0,\n",
       "  'topicName': 'TOP021_INCIDENT_REPORT'}}"
      ]
     },
     "execution_count": 4,
     "metadata": {},
     "output_type": "execute_result"
    }
   ],
   "source": [
    "topic"
   ]
  },
  {
   "cell_type": "code",
   "execution_count": 5,
   "metadata": {},
   "outputs": [
    {
     "name": "stdout",
     "output_type": "stream",
     "text": [
      "<Response [200]>\n"
     ]
    }
   ],
   "source": [
    "r = requests.post(url='http://160.40.49.112:5003/produce', data=json.dumps(alert_for_post))\n",
    "if not r.ok:\n",
    "    print('Didn\\'t work')\n",
    "print(r)"
   ]
  },
  {
   "cell_type": "code",
   "execution_count": 6,
   "metadata": {},
   "outputs": [
    {
     "name": "stdout",
     "output_type": "stream",
     "text": [
      "<Response [200]>\n"
     ]
    }
   ],
   "source": [
    "r = requests.post(url='http://160.40.49.112:5003/produce', data=json.dumps(media_for_post))\n",
    "if not r.ok:\n",
    "    print('Didn\\'t work')\n",
    "print(r)"
   ]
  }
 ],
 "metadata": {
  "kernelspec": {
   "display_name": "Python 3",
   "language": "python",
   "name": "python3"
  },
  "language_info": {
   "codemirror_mode": {
    "name": "ipython",
    "version": 3
   },
   "file_extension": ".py",
   "mimetype": "text/x-python",
   "name": "python",
   "nbconvert_exporter": "python",
   "pygments_lexer": "ipython3",
   "version": "3.6.4"
  }
 },
 "nbformat": 4,
 "nbformat_minor": 2
}
