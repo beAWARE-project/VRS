{
 "cells": [
  {
   "cell_type": "code",
   "execution_count": 1,
   "metadata": {
    "scrolled": true
   },
   "outputs": [],
   "source": [
    "import urllib.request\n",
    "from PIL import Image\n",
    "import io\n",
    "import numpy as np\n",
    "import requests\n",
    "import cv2\n",
    "import os\n",
    "from tqdm import tqdm_notebook as tqdm\n",
    "import json\n",
    "import pprint"
   ]
  },
  {
   "cell_type": "code",
   "execution_count": 2,
   "metadata": {},
   "outputs": [],
   "source": [
    "#file_path = os.path.join('.\\\\', 'demos', 'PROTOTYPE', 'heatwave')\n",
    "#file_path = os.path.join('.\\\\', 'demos', 'videos', 'flood')\n",
    "file_path = '.'\n",
    "f_list = os.listdir(file_path)"
   ]
  },
  {
   "cell_type": "code",
   "execution_count": 3,
   "metadata": {},
   "outputs": [
    {
     "data": {
      "text/plain": [
       "['.ipynb_checkpoints',\n",
       " 'hub_vrs.py',\n",
       " 'log.txt',\n",
       " 'model',\n",
       " 'output',\n",
       " 'ponte1.mp4',\n",
       " 'ponte1.webm',\n",
       " 'raw_storage_access-v2.ipynb',\n",
       " 'send media (copy).ipynb',\n",
       " 'static_video_analyzer.py',\n",
       " 'technical info',\n",
       " 'temp.mp4',\n",
       " 'topic_021_alert.json',\n",
       " 'topic_021_media.json',\n",
       " 'Untitled.ipynb',\n",
       " 'video_analyzer.py',\n",
       " 'video_listener.py',\n",
       " '__pycache__']"
      ]
     },
     "execution_count": 3,
     "metadata": {},
     "output_type": "execute_result"
    }
   ],
   "source": [
    "f_list"
   ]
  },
  {
   "cell_type": "code",
   "execution_count": 4,
   "metadata": {},
   "outputs": [
    {
     "data": {
      "application/vnd.jupyter.widget-view+json": {
       "model_id": "aa7fd6eff0a447e9ac4c223604d110d6",
       "version_major": 2,
       "version_minor": 0
      },
      "text/html": [
       "<p>Failed to display Jupyter Widget of type <code>HBox</code>.</p>\n",
       "<p>\n",
       "  If you're reading this message in the Jupyter Notebook or JupyterLab Notebook, it may mean\n",
       "  that the widgets JavaScript is still loading. If this message persists, it\n",
       "  likely means that the widgets JavaScript library is either not installed or\n",
       "  not enabled. See the <a href=\"https://ipywidgets.readthedocs.io/en/stable/user_install.html\">Jupyter\n",
       "  Widgets Documentation</a> for setup instructions.\n",
       "</p>\n",
       "<p>\n",
       "  If you're reading this message in another frontend (for example, a static\n",
       "  rendering on GitHub or <a href=\"https://nbviewer.jupyter.org/\">NBViewer</a>),\n",
       "  it may mean that your frontend doesn't currently support widgets.\n",
       "</p>\n"
      ],
      "text/plain": [
       "HBox(children=(IntProgress(value=0, max=1), HTML(value='')))"
      ]
     },
     "metadata": {},
     "output_type": "display_data"
    },
    {
     "name": "stdout",
     "output_type": "stream",
     "text": [
      "\n"
     ]
    },
    {
     "ename": "PermissionError",
     "evalue": "[Errno 13] Permission denied: '.\\\\model'",
     "output_type": "error",
     "traceback": [
      "\u001b[1;31m---------------------------------------------------------------------------\u001b[0m",
      "\u001b[1;31mPermissionError\u001b[0m                           Traceback (most recent call last)",
      "\u001b[1;32m<ipython-input-4-f2e6e21e79bb>\u001b[0m in \u001b[0;36m<module>\u001b[1;34m()\u001b[0m\n\u001b[0;32m      4\u001b[0m     \u001b[0mpath\u001b[0m \u001b[1;33m=\u001b[0m \u001b[0mos\u001b[0m\u001b[1;33m.\u001b[0m\u001b[0mpath\u001b[0m\u001b[1;33m.\u001b[0m\u001b[0mjoin\u001b[0m\u001b[1;33m(\u001b[0m\u001b[0mfile_path\u001b[0m\u001b[1;33m,\u001b[0m \u001b[0mf\u001b[0m\u001b[1;33m)\u001b[0m\u001b[1;33m\u001b[0m\u001b[0m\n\u001b[0;32m      5\u001b[0m     \u001b[0mfilename\u001b[0m \u001b[1;33m=\u001b[0m \u001b[0mpath\u001b[0m\u001b[1;33m.\u001b[0m\u001b[0msplit\u001b[0m\u001b[1;33m(\u001b[0m\u001b[0msep\u001b[0m\u001b[1;33m=\u001b[0m\u001b[1;34m'\\\\'\u001b[0m\u001b[1;33m)\u001b[0m\u001b[1;33m[\u001b[0m\u001b[1;33m-\u001b[0m\u001b[1;36m1\u001b[0m\u001b[1;33m]\u001b[0m\u001b[1;33m\u001b[0m\u001b[0m\n\u001b[1;32m----> 6\u001b[1;33m     \u001b[0mdata\u001b[0m \u001b[1;33m=\u001b[0m \u001b[0mopen\u001b[0m\u001b[1;33m(\u001b[0m\u001b[0mpath\u001b[0m\u001b[1;33m,\u001b[0m \u001b[1;34m'rb'\u001b[0m\u001b[1;33m)\u001b[0m\u001b[1;33m\u001b[0m\u001b[0m\n\u001b[0m\u001b[0;32m      7\u001b[0m     \u001b[1;31m#Upload to storage\u001b[0m\u001b[1;33m\u001b[0m\u001b[1;33m\u001b[0m\u001b[0m\n\u001b[0;32m      8\u001b[0m     \u001b[0mlink\u001b[0m \u001b[1;33m=\u001b[0m \u001b[1;34m\"https://beaware-1.eu-de.containers.appdomain.cloud/object-store/\"\u001b[0m\u001b[1;33m+\u001b[0m\u001b[0mfilename\u001b[0m\u001b[1;33m\u001b[0m\u001b[0m\n",
      "\u001b[1;31mPermissionError\u001b[0m: [Errno 13] Permission denied: '.\\\\model'"
     ]
    }
   ],
   "source": [
    "#load local images\n",
    "links = []\n",
    "for f in tqdm(f_list[3:4]):\n",
    "    path = os.path.join(file_path, f)\n",
    "    filename = path.split(sep='\\\\')[-1]\n",
    "    data = open(path, 'rb')\n",
    "    #Upload to storage\n",
    "    link = \"https://beaware-1.eu-de.containers.appdomain.cloud/object-store/\"+filename\n",
    "    headers = {'Content-Type':\"image/jpeg\"}\n",
    "    r = requests.post(link, data, headers=headers)\n",
    "    if not r.ok:\n",
    "        print('Didn\\'t work')\n",
    "    #data.close()\n",
    "    links += [link]\n",
    "    data.close()"
   ]
  },
  {
   "cell_type": "code",
   "execution_count": 5,
   "metadata": {},
   "outputs": [
    {
     "data": {
      "text/plain": [
       "[]"
      ]
     },
     "execution_count": 5,
     "metadata": {},
     "output_type": "execute_result"
    }
   ],
   "source": [
    "links"
   ]
  },
  {
   "cell_type": "code",
   "execution_count": 6,
   "metadata": {},
   "outputs": [],
   "source": [
    "f_list_avi = [each for each in f_list if '.avi' in each]\n",
    "f_list_mp4 = [each for each in f_list if '.mp4' in each]\n",
    "f_list_webm = [each for each in f_list if '.webm' in each]"
   ]
  },
  {
   "cell_type": "code",
   "execution_count": 7,
   "metadata": {},
   "outputs": [
    {
     "data": {
      "text/plain": [
       "['ponte1.webm']"
      ]
     },
     "execution_count": 7,
     "metadata": {},
     "output_type": "execute_result"
    }
   ],
   "source": [
    "f_list_webm"
   ]
  },
  {
   "cell_type": "code",
   "execution_count": 10,
   "metadata": {},
   "outputs": [
    {
     "data": {
      "application/vnd.jupyter.widget-view+json": {
       "model_id": "1425dd9f32264eaeadfa168837d39e40",
       "version_major": 2,
       "version_minor": 0
      },
      "text/plain": [
       "HBox(children=(IntProgress(value=0, max=1), HTML(value='')))"
      ]
     },
     "metadata": {},
     "output_type": "display_data"
    }
   ],
   "source": [
    "#load local webm videos\n",
    "links = []\n",
    "for f in tqdm(f_list_webm):\n",
    "    path = os.path.join(file_path, f)\n",
    "    filename = path.split(sep='/')[-1]\n",
    "    data = open(path, 'rb')\n",
    "    #Upload to storage\n",
    "    link = \"https://beaware-1.eu-de.containers.appdomain.cloud/object-store/\"+filename\n",
    "    headers = {'Content-Type':\"video/webm\"}\n",
    "    r = requests.post(link, data, headers=headers)\n",
    "    if not r.ok:\n",
    "        print('Didn\\'t work')\n",
    "    #data.close()\n",
    "    links += [link]\n",
    "    data.close()"
   ]
  },
  {
   "cell_type": "code",
   "execution_count": null,
   "metadata": {},
   "outputs": [],
   "source": [
    "#load local mp4 videos\n",
    "links = []\n",
    "for f in tqdm(f_list_webm):\n",
    "    path = os.path.join(file_path, f)\n",
    "    filename = path.split(sep='/')[-1]\n",
    "    data = open(path, 'rb')\n",
    "    #Upload to storage\n",
    "    link = \"https://beaware-1.eu-de.containers.appdomain.cloud/object-store/\"+filename\n",
    "    headers = {'Content-Type':\"video/webm\"}\n",
    "    r = requests.post(link, data, headers=headers)\n",
    "    if not r.ok:\n",
    "        print('Didn\\'t work')\n",
    "    #data.close()\n",
    "    links += [link]\n",
    "    data.close()"
   ]
  },
  {
   "cell_type": "code",
   "execution_count": 14,
   "metadata": {},
   "outputs": [
    {
     "data": {
      "text/plain": [
       "['https://beaware-1.eu-de.containers.appdomain.cloud/object-store/ponte1.webm']"
      ]
     },
     "execution_count": 14,
     "metadata": {},
     "output_type": "execute_result"
    }
   ],
   "source": [
    "links"
   ]
  },
  {
   "cell_type": "code",
   "execution_count": null,
   "metadata": {
    "scrolled": true
   },
   "outputs": [],
   "source": [
    "#Delete from storage\n",
    "r = requests.delete(links[1])\n",
    "if not r.ok:\n",
    "    print('Didn\\'t happen')"
   ]
  },
  {
   "cell_type": "code",
   "execution_count": null,
   "metadata": {
    "collapsed": true,
    "scrolled": true
   },
   "outputs": [],
   "source": [
    "#Fetch from storage\n",
    "A = urllib.request.urlopen(links[0])\n",
    "data = A.read()"
   ]
  },
  {
   "cell_type": "code",
   "execution_count": null,
   "metadata": {
    "collapsed": true
   },
   "outputs": [],
   "source": [
    "with open('test.mp4', 'wb') as file:\n",
    "    file.write(data)"
   ]
  },
  {
   "cell_type": "code",
   "execution_count": null,
   "metadata": {
    "collapsed": true
   },
   "outputs": [],
   "source": [
    "data2 = io.BytesIO(data)\n",
    "img = Image.open(data2)\n",
    "exif = img._getexif()\n",
    "if exif is None:\n",
    "    print('No metadata!')\n",
    "else:\n",
    "    print(exif[36867])\n",
    "#img = img.convert(mode='RGB')\n",
    "#img_np = np.array(img)\n",
    "img"
   ]
  },
  {
   "cell_type": "code",
   "execution_count": null,
   "metadata": {
    "collapsed": true
   },
   "outputs": [],
   "source": [
    "ret = {}\n",
    "i = Image.open(data2)\n",
    "info = i._getexif()\n",
    "for tag, value in info.items():\n",
    "    decoded = TAGS.get(tag, tag)\n",
    "    ret[decoded] = value"
   ]
  },
  {
   "cell_type": "code",
   "execution_count": null,
   "metadata": {
    "collapsed": true
   },
   "outputs": [],
   "source": [
    "TAGS.get(36867, 36867)"
   ]
  },
  {
   "cell_type": "code",
   "execution_count": null,
   "metadata": {
    "collapsed": true
   },
   "outputs": [],
   "source": [
    "exif[36867]"
   ]
  },
  {
   "cell_type": "code",
   "execution_count": null,
   "metadata": {
    "collapsed": true
   },
   "outputs": [],
   "source": [
    "decoded = TAGS.get(tag, tag)"
   ]
  },
  {
   "cell_type": "code",
   "execution_count": null,
   "metadata": {
    "collapsed": true
   },
   "outputs": [],
   "source": [
    "if img._getexif() is None:\n",
    "    print(True)"
   ]
  },
  {
   "cell_type": "code",
   "execution_count": null,
   "metadata": {
    "collapsed": true
   },
   "outputs": [],
   "source": [
    "URL = 'http://object-store-app.eu-gb.mybluemix.net/objectStorage?file=Floods.2016.CsQfCsGWIAAhe0c.jpg'\n",
    "URL.split(sep='file=')[1].rsplit(sep='.', maxsplit=1)[0]"
   ]
  },
  {
   "cell_type": "code",
   "execution_count": null,
   "metadata": {
    "collapsed": true
   },
   "outputs": [],
   "source": [
    "A = cv2.VideoCapture('test.mp4')"
   ]
  },
  {
   "cell_type": "code",
   "execution_count": null,
   "metadata": {
    "collapsed": true
   },
   "outputs": [],
   "source": [
    "frame = A.read()[1]"
   ]
  },
  {
   "cell_type": "code",
   "execution_count": null,
   "metadata": {
    "collapsed": true
   },
   "outputs": [],
   "source": [
    "frame_np = np.array(frame)"
   ]
  },
  {
   "cell_type": "code",
   "execution_count": null,
   "metadata": {
    "collapsed": true
   },
   "outputs": [],
   "source": [
    "img = Image.fromarray(frame_np)"
   ]
  },
  {
   "cell_type": "code",
   "execution_count": null,
   "metadata": {
    "collapsed": true
   },
   "outputs": [],
   "source": [
    "A.release()"
   ]
  },
  {
   "cell_type": "code",
   "execution_count": null,
   "metadata": {
    "collapsed": true
   },
   "outputs": [],
   "source": [
    "import json"
   ]
  },
  {
   "cell_type": "code",
   "execution_count": null,
   "metadata": {
    "collapsed": true
   },
   "outputs": [],
   "source": [
    "myjson = {\"message\": {\"video_url\":\"https://object-store-app.eu-gb.mybluemix.net/objectStorage?file=flood_test.jpg\", \"location\":{\"long\":120.120, \"lat\":540.540}, \"timestamp\":\"1234567890\"}}"
   ]
  },
  {
   "cell_type": "code",
   "execution_count": null,
   "metadata": {
    "collapsed": true
   },
   "outputs": [],
   "source": [
    "mystr = json.dumps(myjson)"
   ]
  },
  {
   "cell_type": "code",
   "execution_count": null,
   "metadata": {
    "collapsed": true
   },
   "outputs": [],
   "source": [
    "import socket\n",
    "import sys\n",
    "\n",
    "s = socket.socket()\n",
    "s.connect((\"160.40.49.112\",9999))"
   ]
  },
  {
   "cell_type": "code",
   "execution_count": null,
   "metadata": {
    "collapsed": true
   },
   "outputs": [],
   "source": [
    "f = \"Bye\"\n",
    "l = f.encode()\n",
    "s.sendall(l)\n",
    "a = s.recv(1024)\n",
    "print(a.decode())\n",
    "#s.close()"
   ]
  }
 ],
 "metadata": {
  "kernelspec": {
   "display_name": "Python 3",
   "language": "python",
   "name": "python3"
  },
  "language_info": {
   "codemirror_mode": {
    "name": "ipython",
    "version": 3
   },
   "file_extension": ".py",
   "mimetype": "text/x-python",
   "name": "python",
   "nbconvert_exporter": "python",
   "pygments_lexer": "ipython3",
   "version": "3.6.4"
  }
 },
 "nbformat": 4,
 "nbformat_minor": 2
}
