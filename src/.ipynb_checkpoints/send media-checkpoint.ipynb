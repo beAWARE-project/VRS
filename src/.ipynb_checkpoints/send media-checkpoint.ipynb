{
 "cells": [
  {
   "cell_type": "code",
   "execution_count": 1,
   "metadata": {},
   "outputs": [],
   "source": [
    "import json\n",
    "import requests\n",
    "import uuid\n",
    "import time\n",
    "import urllib.request\n",
    "import skvideo.io\n",
    "from PIL import Image\n",
    "import io\n",
    "import os\n",
    "import cv2"
   ]
  },
  {
   "cell_type": "code",
   "execution_count": 14,
   "metadata": {},
   "outputs": [
    {
     "ename": "NameError",
     "evalue": "name 'full_filename' is not defined",
     "output_type": "error",
     "traceback": [
      "\u001b[1;31m---------------------------------------------------------------------------\u001b[0m",
      "\u001b[1;31mNameError\u001b[0m                                 Traceback (most recent call last)",
      "\u001b[1;32m<ipython-input-14-b4156fd660d0>\u001b[0m in \u001b[0;36m<module>\u001b[1;34m()\u001b[0m\n\u001b[0;32m     21\u001b[0m \u001b[0mtopic\u001b[0m\u001b[1;33m[\u001b[0m\u001b[1;34m'body'\u001b[0m\u001b[1;33m]\u001b[0m\u001b[1;33m[\u001b[0m\u001b[1;34m'uri'\u001b[0m\u001b[1;33m]\u001b[0m \u001b[1;33m=\u001b[0m \u001b[1;34m''\u001b[0m\u001b[1;31m#??\u001b[0m\u001b[1;33m\u001b[0m\u001b[0m\n\u001b[0;32m     22\u001b[0m \u001b[1;33m\u001b[0m\u001b[0m\n\u001b[1;32m---> 23\u001b[1;33m \u001b[0mtopic\u001b[0m\u001b[1;33m[\u001b[0m\u001b[1;34m'body'\u001b[0m\u001b[1;33m]\u001b[0m\u001b[1;33m[\u001b[0m\u001b[1;34m'attachments'\u001b[0m\u001b[1;33m]\u001b[0m\u001b[1;33m[\u001b[0m\u001b[1;34m'attachmentName'\u001b[0m\u001b[1;33m]\u001b[0m \u001b[1;33m=\u001b[0m \u001b[0mfull_filename\u001b[0m\u001b[1;33m\u001b[0m\u001b[0m\n\u001b[0m\u001b[0;32m     24\u001b[0m \u001b[0mtopic\u001b[0m\u001b[1;33m[\u001b[0m\u001b[1;34m'body'\u001b[0m\u001b[1;33m]\u001b[0m\u001b[1;33m[\u001b[0m\u001b[1;34m'attachments'\u001b[0m\u001b[1;33m]\u001b[0m\u001b[1;33m[\u001b[0m\u001b[1;34m'attachmentType'\u001b[0m\u001b[1;33m]\u001b[0m \u001b[1;33m=\u001b[0m \u001b[1;34m'image'\u001b[0m\u001b[1;33m\u001b[0m\u001b[0m\n\u001b[0;32m     25\u001b[0m \u001b[0mtopic\u001b[0m\u001b[1;33m[\u001b[0m\u001b[1;34m'body'\u001b[0m\u001b[1;33m]\u001b[0m\u001b[1;33m[\u001b[0m\u001b[1;34m'attachments'\u001b[0m\u001b[1;33m]\u001b[0m\u001b[1;33m[\u001b[0m\u001b[1;34m'attachmentTimeStampUTC'\u001b[0m\u001b[1;33m]\u001b[0m \u001b[1;33m=\u001b[0m \u001b[0mtimestamp\u001b[0m\u001b[1;33m\u001b[0m\u001b[0m\n",
      "\u001b[1;31mNameError\u001b[0m: name 'full_filename' is not defined"
     ]
    }
   ],
   "source": [
    "with open('./topic_021_alert.json', mode='r') as file:\n",
    "    topic = json.load(file)\n",
    "inc_id = 'INC_VRS_'+uuid.uuid4().hex\n",
    "msg_id = uuid.uuid4().hex\n",
    "inc_time = time.strftime('%Y-%m-%dT%H:%M:%SZ', time.gmtime())\n",
    "\n",
    "\n",
    "topic['header']['sender'] = 'CCTV1'#??\n",
    "topic['header']['msgIdentifier'] = msg_id#msgIdentifier?\n",
    "topic['header']['sentUTC'] = inc_time\n",
    "topic['header']['sentUTC'] = inc_time\n",
    "topic['header']['specificSender'] = 'CCTV1'#??\n",
    "\n",
    "\n",
    "alarm_str='1st'\n",
    "topic['body']['title'] = str('V.R.S.: Bacchiglione a Vicenza CAE, '+alarm_str+' alarm threshold')\n",
    "topic['body']['incidentID'] = inc_id\n",
    "topic['body']['startTimeUTC'] = inc_time\n",
    "topic['body']['incidentOriginator'] = 'VRS'#??\n",
    "topic['body']['incidentType'] = 'Traffic'#??\n",
    "topic['body']['uri'] = ''#??\n",
    "\n",
    "topic['body']['attachments']['attachmentName'] = full_filename\n",
    "topic['body']['attachments']['attachmentType'] = 'image'\n",
    "topic['body']['attachments']['attachmentTimeStampUTC'] = timestamp\n",
    "topic['body']['attachments']['attachmentURL'] = attachmentURL\n",
    "\n",
    "         \n",
    "\n",
    "\n",
    "Severity='Medium'\n",
    "water_level=3.5\n",
    "topic['body']['description'] = str('Static camera: Bacchiglione a Vicenza CAE,Severity: '+Severity+', Water Level value: '+str(water_level))#??\n",
    "# \"dataStreamID\": \"FLCR_1112_OWLm\",\n",
    "#        \"dataSeriesID\": \"47_167\",\n",
    "#afta den yparxoun\n",
    "alert_for_post = {\"topics\": [\"TOP021_INCIDENT_REPORT\"], \"message\": json.dumps(topic)}"
   ]
  },
  {
   "cell_type": "code",
   "execution_count": 9,
   "metadata": {},
   "outputs": [
    {
     "ename": "NameError",
     "evalue": "name 'inc_id' is not defined",
     "output_type": "error",
     "traceback": [
      "\u001b[1;31m---------------------------------------------------------------------------\u001b[0m",
      "\u001b[1;31mNameError\u001b[0m                                 Traceback (most recent call last)",
      "\u001b[1;32m<ipython-input-9-f4879162fe3a>\u001b[0m in \u001b[0;36m<module>\u001b[1;34m()\u001b[0m\n\u001b[0;32m      3\u001b[0m     \u001b[0mtopic\u001b[0m \u001b[1;33m=\u001b[0m \u001b[0mjson\u001b[0m\u001b[1;33m.\u001b[0m\u001b[0mload\u001b[0m\u001b[1;33m(\u001b[0m\u001b[0mfile\u001b[0m\u001b[1;33m)\u001b[0m\u001b[1;33m\u001b[0m\u001b[0m\n\u001b[0;32m      4\u001b[0m \u001b[0mmsg_id\u001b[0m \u001b[1;33m=\u001b[0m \u001b[0muuid\u001b[0m\u001b[1;33m.\u001b[0m\u001b[0muuid4\u001b[0m\u001b[1;33m(\u001b[0m\u001b[1;33m)\u001b[0m\u001b[1;33m.\u001b[0m\u001b[0mhex\u001b[0m\u001b[1;33m\u001b[0m\u001b[0m\n\u001b[1;32m----> 5\u001b[1;33m \u001b[0mtopic\u001b[0m\u001b[1;33m[\u001b[0m\u001b[1;34m'body'\u001b[0m\u001b[1;33m]\u001b[0m\u001b[1;33m[\u001b[0m\u001b[1;34m'incidentID'\u001b[0m\u001b[1;33m]\u001b[0m \u001b[1;33m=\u001b[0m \u001b[0minc_id\u001b[0m\u001b[1;33m\u001b[0m\u001b[0m\n\u001b[0m\u001b[0;32m      6\u001b[0m \u001b[0mtopic\u001b[0m\u001b[1;33m[\u001b[0m\u001b[1;34m'body'\u001b[0m\u001b[1;33m]\u001b[0m\u001b[1;33m[\u001b[0m\u001b[1;34m'startTimeUTC'\u001b[0m\u001b[1;33m]\u001b[0m \u001b[1;33m=\u001b[0m \u001b[0minc_time\u001b[0m\u001b[1;33m\u001b[0m\u001b[0m\n\u001b[0;32m      7\u001b[0m \u001b[0mtopic\u001b[0m\u001b[1;33m[\u001b[0m\u001b[1;34m'body'\u001b[0m\u001b[1;33m]\u001b[0m\u001b[1;33m[\u001b[0m\u001b[1;34m'title'\u001b[0m\u001b[1;33m]\u001b[0m \u001b[1;33m=\u001b[0m \u001b[1;34m\"Report from {}\"\u001b[0m\u001b[1;33m.\u001b[0m\u001b[0mformat\u001b[0m\u001b[1;33m(\u001b[0m\u001b[0minc_time\u001b[0m\u001b[1;33m)\u001b[0m\u001b[1;33m\u001b[0m\u001b[0m\n",
      "\u001b[1;31mNameError\u001b[0m: name 'inc_id' is not defined"
     ]
    }
   ],
   "source": [
    "'''\n",
    "with open('./topic_021_media.json', mode='r') as file:\n",
    "    topic = json.load(file)\n",
    "msg_id = uuid.uuid4().hex\n",
    "topic['body']['incidentID'] = inc_id\n",
    "topic['body']['startTimeUTC'] = inc_time\n",
    "topic['body']['title'] = \"Report from {}\".format(inc_time)\n",
    "topic['header']['msgIdentifier'] = msg_id\n",
    "topic['header']['sentUTC'] = inc_time\n",
    "media_for_post = {\"topics\": [\"TOP021_INCIDENT_REPORT\"], \"message\": json.dumps(topic)}\n",
    "'''"
   ]
  },
  {
   "cell_type": "code",
   "execution_count": 14,
   "metadata": {},
   "outputs": [
    {
     "data": {
      "text/plain": [
       "{'body': {'description': 'Static camera: Bacchiglione a Vicenza CAE,Severity: Medium, Water Level value: 3.5',\n",
       "  'incidentID': 'INC_VRS_03488b441f2f49ba886428042d673e7c',\n",
       "  'incidentOriginator': 'VRS',\n",
       "  'incidentType': 'Traffic',\n",
       "  'language': 'en-US',\n",
       "  'position': {'latitude': 45.550171, 'longitude': 11.550287},\n",
       "  'startTimeUTC': '2019-02-18T16:18:59Z',\n",
       "  'title': 'V.R.S.: Bacchiglione a Vicenza CAE, 1st alarm threshold'},\n",
       " 'header': {'actionType': 'Alert',\n",
       "  'code': 0,\n",
       "  'district': 'Vicenza',\n",
       "  'msgIdentifier': '628a00b9258d4dfe9db2c247f0cdfd73',\n",
       "  'note': '',\n",
       "  'recipients': '',\n",
       "  'references': '',\n",
       "  'scope': 'Restricted',\n",
       "  'sender': 'CCTV',\n",
       "  'sentUTC': '2019-02-18T16:18:59Z',\n",
       "  'specificSender': 'CCTV1',\n",
       "  'status': 'Actual',\n",
       "  'topicMajorVersion': 1,\n",
       "  'topicMinorVersion': 0,\n",
       "  'topicName': 'TOP021_INCIDENT_REPORT'}}"
      ]
     },
     "execution_count": 14,
     "metadata": {},
     "output_type": "execute_result"
    }
   ],
   "source": [
    "topic"
   ]
  },
  {
   "cell_type": "code",
   "execution_count": 11,
   "metadata": {},
   "outputs": [
    {
     "name": "stdout",
     "output_type": "stream",
     "text": [
      "<Response [200]>\n"
     ]
    }
   ],
   "source": [
    "r = requests.post(url='http://160.40.49.112:5003/produce', data=json.dumps(alert_for_post))\n",
    "if not r.ok:\n",
    "    print('Didn\\'t work')\n",
    "print(r)"
   ]
  },
  {
   "cell_type": "code",
   "execution_count": 6,
   "metadata": {},
   "outputs": [
    {
     "name": "stdout",
     "output_type": "stream",
     "text": [
      "<Response [200]>\n"
     ]
    }
   ],
   "source": [
    "r = requests.post(url='http://160.40.49.112:5003/produce', data=json.dumps(media_for_post))\n",
    "if not r.ok:\n",
    "    print('Didn\\'t work')\n",
    "print(r)"
   ]
  },
  {
   "cell_type": "code",
   "execution_count": null,
   "metadata": {},
   "outputs": [],
   "source": [
    "{\n",
    "   \"header\": {\n",
    "      \"topicName\": \"TOP021_INCIDENT_REPORT\",\n",
    "      \"topicMajorVersion\": 1,\n",
    "      \"topicMinorVersion\": 0,\n",
    "      \"sender\": \"CCTV1\",\n",
    "      \"msgIdentifier\": \"2c11ee6ccd1f4c96ac4c455b4636309b_MANOS3\",\n",
    "      \"sentUTC\": \"2019-02-18T15:20:58Z\",\n",
    "      \"status\": \"Actual\",\n",
    "      \"actionType\": \"Alert\",\n",
    "      \"specificSender\": \"CCTV1\",\n",
    "      \"scope\": \"Restricted\",\n",
    "      \"district\": \"Vicenza\",\n",
    "      \"recipients\": \"\",\n",
    "      \"code\": 0,\n",
    "      \"note\": \"\",\n",
    "      \"references\": \"\"\n",
    "   },\n",
    "   \"body\": {\n",
    "      \"incidentOriginator\": \"VRS\",\n",
    "      \"incidentID\": \"INC_VRS_49b0905c016145d2ba5c6b8d2d06aba3Manos\",\n",
    "      \"incidentType\": \"TrafficGiaPano\",\n",
    "      \"language\": \"en-US\",\n",
    "      \"startTimeUTC\": \"2019-02-18T13:40:58Z\",\n",
    "      \"title\": \"V.R.S.: Bacchiglione a Vicenza CAE, 1st alarm threshold\",\n",
    "      \"uri\": \"\",\n",
    "      \"position\": {\n",
    "         \"latitude\": 58.550171,\n",
    "         \"longitude\": 12.550287\n",
    "      },\n",
    "      \"description\": \"Static camera: Bacchiglione a Vicenza CAE,Severity: Moderate, Water Level value: 3.5\",\n",
    "      \"attachments\": [\n",
    "         {\n",
    "            \"attachmentName\": \"_0.jpeg\",\n",
    "            \"attachmentType\": \"image\",\n",
    "            \"attachmentTimeStampUTC\": \"2019-02-18T13:58:38Z\",\n",
    "            \"attachmentURL\": \"https://beaware-1.eu-de.containers.appdomain.cloud/object-store/13600%2F5498fa61-d11d-45e5-bd24-44c31e0b2edd.jpeg\"\n",
    "         }\n",
    "      ]\n",
    "   }\n",
    "}"
   ]
  },
  {
   "cell_type": "code",
   "execution_count": null,
   "metadata": {},
   "outputs": [],
   "source": [
    "{\n",
    "    \"header\": {\n",
    "        \"topicName\": \"TOP021_INCIDENT_REPORT\",\n",
    "        \"topicMajorVersion\": 0,\n",
    "        \"topicMinorVersion\": 1,\n",
    "        \"sender\": \"CRCL\",\n",
    "        \"msgIdentifier\": \"20190218T113330MS769592\",\n",
    "        \"sentUTC\": \"2019-02-18T11:33:30Z\",\n",
    "        \"status\": \"Actual\",\n",
    "        \"actionType\": \"Alert\",\n",
    "        \"specificSender\": \"\",\n",
    "        \"scope\": \"Restricted\",\n",
    "        \"district\": \"Vicenza\",\n",
    "        \"recipients\": \"\",\n",
    "        \"code\": \"0\",\n",
    "        \"note\": \"\",\n",
    "        \"references\": \"\"\n",
    "    },\n",
    "    \"body\": {\n",
    "        \"title\": \"W.S.: Bacchiglione a Vicenza CAE, 1st alarm threshold \",\n",
    "        \"incidentOriginator\": \"CRCL\",\n",
    "        \"incidentID\": \"47_167_155048232447167\",\n",
    "        \"startTimeUTC\": \"2019-02-18T11:32:04.000Z\",\n",
    "        \"language\": \"en-US\",\n",
    "        \"description\": \"Weather Station: Bacchiglione a Vicenza CAE,Severity: Medium, Water Level value: 4.56\",\n",
    "        \"position\": {\n",
    "            \"longitude\": 11.550412,\n",
    "            \"latitude\": 45.550102\n",
    "        },\n",
    "        \"dataStreamID\": \"FLCR_1112_OWLm\",\n",
    "        \"dataSeriesID\": \"47_167\",\n",
    "        \"attachments\": []\n",
    "    }\n",
    "}"
   ]
  },
  {
   "cell_type": "code",
   "execution_count": 7,
   "metadata": {},
   "outputs": [
    {
     "name": "stdout",
     "output_type": "stream",
     "text": [
      "ponte1_output.jpeg\n",
      "https://beaware-1.eu-de.containers.appdomain.cloud/object-store/ponte1_output.jpeg\n",
      "82\n"
     ]
    }
   ],
   "source": [
    "\n",
    "\n",
    "def load_video(path):\n",
    "    #TODO: search metadata for timestamp\n",
    "    PATH_TO_VIDEO = path\n",
    "    metadata = skvideo.io.ffprobe(PATH_TO_VIDEO)\n",
    "    frames = []\n",
    "    fps = metadata['video']['@r_frame_rate']\n",
    "    fps = fps.split(sep='/')\n",
    "    fps = int(fps[0])/int(fps[1])\n",
    "    num_of_frames = int(metadata['video']['@nb_frames'])\n",
    "    width = int(metadata['video']['@width'])\n",
    "    height = int(metadata['video']['@height'])\n",
    "    sequence = skvideo.io.vreader(PATH_TO_VIDEO)\n",
    "    for f in sequence:\n",
    "        frames += [f]\n",
    "    return fps, width, height, frames\n",
    "\n",
    "\n",
    "video_url='https://beaware-1.eu-de.containers.appdomain.cloud/object-store/ponte1.mp4'\n",
    "A = urllib.request.urlopen(video_url)\n",
    "data = A.read()\n",
    "vfile = open('temp.mp4', 'wb')\n",
    "vfile.write(data)\n",
    "vfile.close()\n",
    "fps, width, height, frames = load_video('temp.mp4')\n",
    "\n",
    "timestamp = time.strftime('%Y-%m-%dT%H:%M:%SZ', time.gmtime())\n",
    "file_name='ponte1.mp4'\n",
    "storage_link='https://beaware-1.eu-de.containers.appdomain.cloud/object-store'\n",
    "\n",
    "\n",
    "\n",
    "frame_np=frames[0]\n",
    "\n",
    "\n",
    "\n",
    "img_timestamp=timestamp\n",
    "img_filename=str(file_name.split(sep='.', maxsplit=1)[0]+'_output.jpeg')\n",
    "print(img_filename)\n",
    "img_URL=storage_link+'/'+img_filename\n",
    "print(img_URL)\n",
    "\n",
    "#img = Image.fromarray(frame_np)\n",
    "#imgByteArr = io.BytesIO()\n",
    "#img.save(imgByteArr, format='jpeg')\n",
    "#imgByteArr = imgByteArr.getvalue()\n",
    "\n",
    "to_write = Image.fromarray(frame_np)\n",
    "to_write.save('output.jpg')\n",
    "bimg_output = open('output.jpg', 'rb')\n",
    "to_write.close\n",
    "\n",
    "\n",
    "print(len(img_URL))\n",
    "r = requests.post(img_URL,bimg_output,headers = {'Content-Type':\"image/jpeg\"})\n",
    "if not r.ok:\n",
    "    print('Image was not uploaded')\n",
    "                "
   ]
  },
  {
   "cell_type": "code",
   "execution_count": 40,
   "metadata": {},
   "outputs": [
    {
     "ename": "AttributeError",
     "evalue": "'bytes' object has no attribute 'size'",
     "output_type": "error",
     "traceback": [
      "\u001b[1;31m---------------------------------------------------------------------------\u001b[0m",
      "\u001b[1;31mAttributeError\u001b[0m                            Traceback (most recent call last)",
      "\u001b[1;32m<ipython-input-40-656afeeaab6c>\u001b[0m in \u001b[0;36m<module>\u001b[1;34m()\u001b[0m\n\u001b[1;32m----> 1\u001b[1;33m \u001b[0mimgByteArr\u001b[0m\u001b[1;33m.\u001b[0m\u001b[0msize\u001b[0m\u001b[1;33m\u001b[0m\u001b[0m\n\u001b[0m",
      "\u001b[1;31mAttributeError\u001b[0m: 'bytes' object has no attribute 'size'"
     ]
    }
   ],
   "source": [
    "\n"
   ]
  },
  {
   "cell_type": "code",
   "execution_count": null,
   "metadata": {},
   "outputs": [],
   "source": []
  }
 ],
 "metadata": {
  "kernelspec": {
   "display_name": "Python 3",
   "language": "python",
   "name": "python3"
  },
  "language_info": {
   "codemirror_mode": {
    "name": "ipython",
    "version": 3
   },
   "file_extension": ".py",
   "mimetype": "text/x-python",
   "name": "python",
   "nbconvert_exporter": "python",
   "pygments_lexer": "ipython3",
   "version": "3.6.4"
  }
 },
 "nbformat": 4,
 "nbformat_minor": 2
}
